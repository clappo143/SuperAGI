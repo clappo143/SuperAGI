{
  "nbformat": 4,
  "nbformat_minor": 0,
  "metadata": {
    "colab": {
      "provenance": [],
      "toc_visible": true,
      "include_colab_link": true
    },
    "kernelspec": {
      "name": "python3",
      "display_name": "Python 3"
    },
    "language_info": {
      "name": "python"
    }
  },
  "cells": [
    {
      "cell_type": "markdown",
      "metadata": {
        "id": "view-in-github",
        "colab_type": "text"
      },
      "source": [
        "<a href=\"https://colab.research.google.com/github/clappo143/SuperAGI/blob/main/Copy_of_BARD_API_EXAMPLE.ipynb\" target=\"_parent\"><img src=\"https://colab.research.google.com/assets/colab-badge.svg\" alt=\"Open In Colab\"/></a>"
      ]
    },
    {
      "cell_type": "markdown",
      "source": [
        "# Welcome to Python Package BardAPI tutorial"
      ],
      "metadata": {
        "id": "gU9J5HUp7PfW"
      }
    },
    {
      "cell_type": "markdown",
      "source": [
        "## Install"
      ],
      "metadata": {
        "id": "nxhT0jzT7SAA"
      }
    },
    {
      "cell_type": "code",
      "source": [
        "!pip install --upgrade google-cloud-core"
      ],
      "metadata": {
        "colab": {
          "base_uri": "https://localhost:8080/",
          "height": 558
        },
        "id": "egOoFNdj1qKH",
        "outputId": "5ef022f4-7815-494d-8016-ac437609650c"
      },
      "execution_count": null,
      "outputs": [
        {
          "output_type": "stream",
          "name": "stdout",
          "text": [
            "Requirement already satisfied: google-cloud-core in /usr/local/lib/python3.10/dist-packages (1.7.3)\n",
            "Collecting google-cloud-core\n",
            "  Downloading google_cloud_core-2.3.2-py2.py3-none-any.whl (29 kB)\n",
            "Requirement already satisfied: google-api-core!=2.0.*,!=2.1.*,!=2.2.*,!=2.3.0,<3.0.0dev,>=1.31.6 in /usr/local/lib/python3.10/dist-packages (from google-cloud-core) (1.34.0)\n",
            "Requirement already satisfied: google-auth<3.0dev,>=1.25.0 in /usr/local/lib/python3.10/dist-packages (from google-cloud-core) (2.17.3)\n",
            "Requirement already satisfied: googleapis-common-protos<2.0dev,>=1.56.2 in /usr/local/lib/python3.10/dist-packages (from google-api-core!=2.0.*,!=2.1.*,!=2.2.*,!=2.3.0,<3.0.0dev,>=1.31.6->google-cloud-core) (1.59.1)\n",
            "Requirement already satisfied: protobuf!=3.20.0,!=3.20.1,!=4.21.0,!=4.21.1,!=4.21.2,!=4.21.3,!=4.21.4,!=4.21.5,<4.0.0dev,>=3.19.5 in /usr/local/lib/python3.10/dist-packages (from google-api-core!=2.0.*,!=2.1.*,!=2.2.*,!=2.3.0,<3.0.0dev,>=1.31.6->google-cloud-core) (3.20.3)\n",
            "Requirement already satisfied: requests<3.0.0dev,>=2.18.0 in /usr/local/lib/python3.10/dist-packages (from google-api-core!=2.0.*,!=2.1.*,!=2.2.*,!=2.3.0,<3.0.0dev,>=1.31.6->google-cloud-core) (2.27.1)\n",
            "Requirement already satisfied: cachetools<6.0,>=2.0.0 in /usr/local/lib/python3.10/dist-packages (from google-auth<3.0dev,>=1.25.0->google-cloud-core) (4.2.4)\n",
            "Requirement already satisfied: pyasn1-modules>=0.2.1 in /usr/local/lib/python3.10/dist-packages (from google-auth<3.0dev,>=1.25.0->google-cloud-core) (0.3.0)\n",
            "Requirement already satisfied: six>=1.9.0 in /usr/local/lib/python3.10/dist-packages (from google-auth<3.0dev,>=1.25.0->google-cloud-core) (1.16.0)\n",
            "Requirement already satisfied: rsa<5,>=3.1.4 in /usr/local/lib/python3.10/dist-packages (from google-auth<3.0dev,>=1.25.0->google-cloud-core) (4.9)\n",
            "Requirement already satisfied: pyasn1<0.6.0,>=0.4.6 in /usr/local/lib/python3.10/dist-packages (from pyasn1-modules>=0.2.1->google-auth<3.0dev,>=1.25.0->google-cloud-core) (0.5.0)\n",
            "Requirement already satisfied: urllib3<1.27,>=1.21.1 in /usr/local/lib/python3.10/dist-packages (from requests<3.0.0dev,>=2.18.0->google-api-core!=2.0.*,!=2.1.*,!=2.2.*,!=2.3.0,<3.0.0dev,>=1.31.6->google-cloud-core) (1.26.16)\n",
            "Requirement already satisfied: certifi>=2017.4.17 in /usr/local/lib/python3.10/dist-packages (from requests<3.0.0dev,>=2.18.0->google-api-core!=2.0.*,!=2.1.*,!=2.2.*,!=2.3.0,<3.0.0dev,>=1.31.6->google-cloud-core) (2023.5.7)\n",
            "Requirement already satisfied: charset-normalizer~=2.0.0 in /usr/local/lib/python3.10/dist-packages (from requests<3.0.0dev,>=2.18.0->google-api-core!=2.0.*,!=2.1.*,!=2.2.*,!=2.3.0,<3.0.0dev,>=1.31.6->google-cloud-core) (2.0.12)\n",
            "Requirement already satisfied: idna<4,>=2.5 in /usr/local/lib/python3.10/dist-packages (from requests<3.0.0dev,>=2.18.0->google-api-core!=2.0.*,!=2.1.*,!=2.2.*,!=2.3.0,<3.0.0dev,>=1.31.6->google-cloud-core) (3.4)\n",
            "Installing collected packages: google-cloud-core\n",
            "  Attempting uninstall: google-cloud-core\n",
            "    Found existing installation: google-cloud-core 1.7.3\n",
            "    Uninstalling google-cloud-core-1.7.3:\n",
            "      Successfully uninstalled google-cloud-core-1.7.3\n",
            "\u001b[31mERROR: pip's dependency resolver does not currently take into account all the packages that are installed. This behaviour is the source of the following dependency conflicts.\n",
            "google-cloud-translate 2.0.1 requires google-cloud-core<2.0dev,>=1.1.0, but you have google-cloud-core 2.3.2 which is incompatible.\u001b[0m\u001b[31m\n",
            "\u001b[0mSuccessfully installed google-cloud-core-2.3.2\n"
          ]
        },
        {
          "output_type": "display_data",
          "data": {
            "application/vnd.colab-display-data+json": {
              "pip_warning": {
                "packages": [
                  "google"
                ]
              }
            }
          },
          "metadata": {}
        }
      ]
    },
    {
      "cell_type": "code",
      "source": [
        "!pip install --upgrade google-auth==2.17.3"
      ],
      "metadata": {
        "colab": {
          "base_uri": "https://localhost:8080/",
          "height": 419
        },
        "id": "9dXGTexI1foH",
        "outputId": "d0a08454-90e2-4254-aba0-87f43442497c"
      },
      "execution_count": null,
      "outputs": [
        {
          "output_type": "stream",
          "name": "stdout",
          "text": [
            "Collecting google-auth==2.17.3\n",
            "  Downloading google_auth-2.17.3-py2.py3-none-any.whl (178 kB)\n",
            "\u001b[?25l     \u001b[90m━━━━━━━━━━━━━━━━━━━━━━━━━━━━━━━━━━━━━━━━\u001b[0m \u001b[32m0.0/178.2 kB\u001b[0m \u001b[31m?\u001b[0m eta \u001b[36m-:--:--\u001b[0m\r\u001b[2K     \u001b[90m━━━━━━━━━━━━━━━━━━━━━━━━━━━━━━━━━━━━━━\u001b[0m \u001b[32m178.2/178.2 kB\u001b[0m \u001b[31m12.8 MB/s\u001b[0m eta \u001b[36m0:00:00\u001b[0m\n",
            "\u001b[?25hRequirement already satisfied: cachetools<6.0,>=2.0.0 in /usr/local/lib/python3.10/dist-packages (from google-auth==2.17.3) (4.2.4)\n",
            "Requirement already satisfied: pyasn1-modules>=0.2.1 in /usr/local/lib/python3.10/dist-packages (from google-auth==2.17.3) (0.3.0)\n",
            "Requirement already satisfied: six>=1.9.0 in /usr/local/lib/python3.10/dist-packages (from google-auth==2.17.3) (1.16.0)\n",
            "Requirement already satisfied: rsa<5,>=3.1.4 in /usr/local/lib/python3.10/dist-packages (from google-auth==2.17.3) (4.9)\n",
            "Requirement already satisfied: pyasn1<0.6.0,>=0.4.6 in /usr/local/lib/python3.10/dist-packages (from pyasn1-modules>=0.2.1->google-auth==2.17.3) (0.5.0)\n",
            "Installing collected packages: google-auth\n",
            "  Attempting uninstall: google-auth\n",
            "    Found existing installation: google-auth 1.35.0\n",
            "    Uninstalling google-auth-1.35.0:\n",
            "      Successfully uninstalled google-auth-1.35.0\n",
            "\u001b[31mERROR: pip's dependency resolver does not currently take into account all the packages that are installed. This behaviour is the source of the following dependency conflicts.\n",
            "google-cloud-core 1.7.3 requires google-auth<2.0dev,>=1.24.0, but you have google-auth 2.17.3 which is incompatible.\n",
            "google-cloud-storage 2.8.0 requires google-cloud-core<3.0dev,>=2.3.0, but you have google-cloud-core 1.7.3 which is incompatible.\u001b[0m\u001b[31m\n",
            "\u001b[0mSuccessfully installed google-auth-2.17.3\n"
          ]
        },
        {
          "output_type": "display_data",
          "data": {
            "application/vnd.colab-display-data+json": {
              "pip_warning": {
                "packages": [
                  "google"
                ]
              }
            }
          },
          "metadata": {}
        }
      ]
    },
    {
      "cell_type": "code",
      "source": [
        "!pip install bardapi>=0.1.8"
      ],
      "metadata": {
        "id": "pXMmgTjyR39B"
      },
      "execution_count": 1,
      "outputs": []
    },
    {
      "cell_type": "markdown",
      "source": [
        "## Using `token` argument."
      ],
      "metadata": {
        "id": "rBSv-wvdkPdy"
      }
    },
    {
      "cell_type": "code",
      "source": [
        "PSID='YAiLoxeyYQRpJrlWu0-ymL8SSUFXwFD0o4FuklVKoayuTwgCtJ-kwzwSh47oEuvJGwFPAw.'"
      ],
      "metadata": {
        "id": "DbVcm9ku5dZt"
      },
      "execution_count": 7,
      "outputs": []
    },
    {
      "cell_type": "code",
      "source": [
        "# 01.simple usage\n",
        "from bardapi import Bard\n",
        "import os\n",
        "\n",
        "token=PSID\n",
        "\n",
        "Bard(token=token).get_answer(\"Hello about how many porcupines are there in the world?\")['content']"
      ],
      "metadata": {
        "id": "AtX5KghQkMLX",
        "colab": {
          "base_uri": "https://localhost:8080/",
          "height": 35
        },
        "outputId": "3d12b547-1e5c-48f0-eb6b-37cf818f8627"
      },
      "execution_count": 8,
      "outputs": [
        {
          "output_type": "execute_result",
          "data": {
            "text/plain": [
              "'There are about 30 species of porcupines in the world, with a total population of around 100 million.'"
            ],
            "application/vnd.google.colaboratory.intrinsic+json": {
              "type": "string"
            }
          },
          "metadata": {},
          "execution_count": 8
        }
      ]
    },
    {
      "cell_type": "code",
      "source": [
        "# 02.with timeout variable\n",
        "from bardapi import Bard\n",
        "import os\n",
        "\n",
        "token=PSID\n",
        "\n",
        "Bard(token, timeout=10).get_answer(\"Hello about how many types of motorbikes are there in the world? And plain explain excplain each type\")['content']"
      ],
      "metadata": {
        "id": "ovKpGvg_kVi4",
        "colab": {
          "base_uri": "https://localhost:8080/",
          "height": 139
        },
        "outputId": "c72c3b9b-f874-4e24-e93a-04a98deb5173"
      },
      "execution_count": 10,
      "outputs": [
        {
          "output_type": "execute_result",
          "data": {
            "text/plain": [
              "'There are many different types of motorcycles in the world, but the six main types are:\\n\\n* **Standard motorcycles** are the most common type of motorcycle. They are versatile and can be used for a variety of purposes, including commuting, touring, and sport riding. Standard motorcycles typically have a comfortable riding position and a relatively upright handlebar.\\n[Image of Standard motorcycle]\\n* **Cruisers** are designed for comfort and style. They typically have a low seat, a wide handlebar, and a powerful engine. Cruisers are not as agile as other types of motorcycles, but they are perfect for cruising down the highway or taking a leisurely ride through the countryside.\\n[Image of Cruiser motorcycle]\\n* **Touring motorcycles** are designed for long-distance riding. They typically have a large fuel tank, a comfortable seat, and a fairing to protect the rider from the wind and weather. Touring motorcycles are often equipped with extra features, such as saddlebags, heated grips, and a navigation system.\\n[Image of Touring motorcycle]\\n* **Sport motorcycles** are designed for speed and performance. They typically have a lightweight frame, a powerful engine, and a sleek design. Sport motorcycles are not as comfortable as other types of motorcycles, but they are perfect for track days and racing.\\n[Image of Sport motorcycle]\\n* **Off-road motorcycles** are designed for riding in rough terrain. They typically have a high ground clearance, knobby tires, and a long-travel suspension. Off-road motorcycles are not street legal, but they are perfect for riding in the dirt, mud, and rocks.\\n[Image of Off-road motorcycle]\\n* **Dual-sport motorcycles** are designed for both on-road and off-road riding. They typically have a combination of features from off-road and street motorcycles. Dual-sport motorcycles are not as good as either off-road or street motorcycles, but they are a good compromise for riders who want to do both.\\n[Image of Dual-sport motorcycle]\\n\\nIn addition to these six main types, there are many other specialized types of motorcycles, such as:\\n\\n* **Mopeds** are small, lightweight motorcycles with a step-through frame and a low seat. They are typically powered by a small engine and are not street legal in some countries.\\n[Image of Moped motorcycle]\\n* **Scooters** are also small, lightweight motorcycles, but they typically have a higher seat and a more aerodynamic design than mopeds. Scooters are often powered by an electric motor and are very popular in urban areas.\\n[Image of Scooter motorcycle]\\n* **Minibikes** are small, four-wheeled motorcycles that are typically powered by a small engine. They are often used by children and adults for recreational riding.\\n[Image of Minibike motorcycle]\\n* **Trial bikes** are designed for riding over obstacles and challenging terrain. They typically have a very lightweight frame and a small engine.\\n[Image of Trial bike motorcycle]\\n* **Enduro bikes** are designed for off-road riding, but they are more powerful and capable than trail bikes. They are often used in competitive racing events.\\n[Image of Enduro bike motorcycle]\\n\\nThe type of motorcycle you choose will depend on your individual needs and preferences. If you are looking for a versatile motorcycle that can be used for a variety of purposes, then a standard motorcycle is a good option. If you are looking for a comfortable and stylish motorcycle, then a cruiser is a good choice. If you are planning on doing a lot of long-distance riding, then a touring motorcycle is a good option. If you want a motorcycle for speed and performance, then a sport motorcycle is a good choice. If you want a motorcycle for riding in rough terrain, then an off-road motorcycle is a good choice. And if you want a motorcycle that can do both on-road and off-road riding, then a dual-sport motorcycle is a good option.'"
            ],
            "application/vnd.google.colaboratory.intrinsic+json": {
              "type": "string"
            }
          },
          "metadata": {},
          "execution_count": 10
        }
      ]
    },
    {
      "cell_type": "code",
      "source": [
        "# 03. usage\n",
        "import bardapi\n",
        "import os\n",
        "\n",
        "# set your __Secure-1PSID value to key\n",
        "token='xxxxxxxxxx'\n",
        "\n",
        "# set your input text\n",
        "input_text = \"Hello about how many porcupines are there in the world?\"\n",
        "\n",
        "# Send an API request and get a response.\n",
        "response = bardapi.core.Bard(token).get_answer(input_text)"
      ],
      "metadata": {
        "id": "ydgsw1pKkYYp"
      },
      "execution_count": null,
      "outputs": []
    },
    {
      "cell_type": "code",
      "source": [
        "# 04. session object as argument\n",
        "from bardapi import Bard\n",
        "import os\n",
        "import requests\n",
        "\n",
        "token='xxxxxxxxxx'\n",
        "session = requests.Session()\n",
        "session.headers = {\n",
        "            \"Host\": \"bard.google.com\",\n",
        "            \"X-Same-Domain\": \"1\",\n",
        "            \"User-Agent\": \"Mozilla/5.0 (Windows NT 10.0; WOW64) AppleWebKit/537.36 (KHTML, like Gecko) Chrome/91.0.4472.114 Safari/537.36\",\n",
        "            \"Content-Type\": \"application/x-www-form-urlencoded;charset=UTF-8\",\n",
        "            \"Origin\": \"https://bard.google.com\",\n",
        "            \"Referer\": \"https://bard.google.com/\",\n",
        "        }\n",
        "session.cookies.set(\"__Secure-1PSID\", token)\n",
        "\n",
        "bard = Bard(token=token, session=session)\n",
        "bard.get_answer(\"Hello about how many porcupines are there in the world?\")['content']"
      ],
      "metadata": {
        "id": "xgcMNOfHkm_B"
      },
      "execution_count": null,
      "outputs": []
    },
    {
      "cell_type": "markdown",
      "source": [
        "## Using `_BARD_API_KEY` enviroment variable."
      ],
      "metadata": {
        "id": "0GOU331bkKpA"
      }
    },
    {
      "cell_type": "code",
      "source": [
        "# 01.simple usage\n",
        "\n",
        "from bardapi import Bard\n",
        "import os\n",
        "\n",
        "os.environ['_BARD_API_KEY']='xxxxxxxxxxxx'\n",
        "\n",
        "Bard().get_answer(\"파이썬 패키지 ExceptNotifier에 대해서 설명해줘\")['content']"
      ],
      "metadata": {
        "id": "NgiVCQK0Z_2P"
      },
      "execution_count": null,
      "outputs": []
    },
    {
      "cell_type": "code",
      "source": [
        "Bard().get_answer(\"파이썬 패키지 ExceptNotifier에 대해서 설명해줘\")['content']"
      ],
      "metadata": {
        "id": "ENZceZbXot2b"
      },
      "execution_count": null,
      "outputs": []
    },
    {
      "cell_type": "code",
      "source": [
        "# 02.with timeout variable\n",
        "\n",
        "from bardapi import Bard\n",
        "import os\n",
        "\n",
        "os.environ['_BARD_API_KEY']='AP8dLtzt_MhlbqJVyccmM6bkDP1nlvfasz6GPnDPiNAGXnMALqsgrspPXFTqAPrNSXb-4imsLMY'\n",
        "\n",
        "Bard(timeout=10).get_answer(\"파이썬 패키지 ExceptNotifier에 대해서 설명해줘\")['content']"
      ],
      "metadata": {
        "id": "HwAB_tqwqCoh"
      },
      "execution_count": null,
      "outputs": []
    },
    {
      "cell_type": "code",
      "execution_count": null,
      "metadata": {
        "id": "KbaWnxoIRzbq"
      },
      "outputs": [],
      "source": [
        "# 03. usage\n",
        "\n",
        "import bardapi\n",
        "import os\n",
        "\n",
        "# set your __Secure-1PSID value to key\n",
        "os.environ['_BARD_API_KEY']='AP8dLtzt_MhlbqJVyccmM6bkDP1nlvfasz6GPnDPiNAGXnMALqsgrspPXFTqAPrNSXb-4imsLMY'\n",
        "\n",
        "# set your input text\n",
        "input_text = \"Hello about how many porcupines are there in the world?\"\n",
        "\n",
        "# Send an API request and get a response.\n",
        "response = bardapi.core.Bard().get_answer(input_text)"
      ]
    },
    {
      "cell_type": "code",
      "source": [
        "response"
      ],
      "metadata": {
        "id": "RibyQTozSFUF"
      },
      "execution_count": null,
      "outputs": []
    },
    {
      "cell_type": "code",
      "source": [
        "# 04. session object as argument\n",
        "\n",
        "from bardapi import Bard\n",
        "import os\n",
        "import requests\n",
        "\n",
        "os.environ['_BARD_API_KEY']='xxxxxxxxxx'\n",
        "session = requests.Session()\n",
        "session.headers = {\n",
        "            \"Host\": \"bard.google.com\",\n",
        "            \"X-Same-Domain\": \"1\",\n",
        "            \"User-Agent\": \"Mozilla/5.0 (Windows NT 10.0; WOW64) AppleWebKit/537.36 (KHTML, like Gecko) Chrome/91.0.4472.114 Safari/537.36\",\n",
        "            \"Content-Type\": \"application/x-www-form-urlencoded;charset=UTF-8\",\n",
        "            \"Origin\": \"https://bard.google.com\",\n",
        "            \"Referer\": \"https://bard.google.com/\",\n",
        "        }\n",
        "session.cookies.set(\"__Secure-1PSID\", os.environ[\"_BARD_API_KEY\"])\n",
        "\n",
        "bard = Bard(session=session)\n",
        "bard.get_answer(\"나와 내 동년배들이 좋아하는 뉴진스에 대해서 알려줘\")['content']"
      ],
      "metadata": {
        "id": "f_iH0oqtptQ6"
      },
      "execution_count": null,
      "outputs": []
    }
  ]
}